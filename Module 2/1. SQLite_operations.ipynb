{
 "cells": [
  {
   "cell_type": "markdown",
   "id": "10db79fd-d4dc-4cde-a8d5-30b4bf4cb95f",
   "metadata": {},
   "source": [
    "# In-Memory SQLite Databases using Python"
   ]
  },
  {
   "cell_type": "code",
   "execution_count": 1,
   "id": "df198473-6cd7-4447-8db8-1840e1c41208",
   "metadata": {},
   "outputs": [],
   "source": [
    "# !pip install sqlite3 "
   ]
  },
  {
   "cell_type": "code",
   "execution_count": 2,
   "id": "fd44c4d6-aec3-45ae-9cf9-682068efafce",
   "metadata": {},
   "outputs": [],
   "source": [
    "import sqlite3\n",
    "import pandas as pd\n",
    "\n",
    "# Create an in-memory SQLite database\n",
    "connection = sqlite3.connect(':memory:')\n",
    "\n",
    "# Create a cursor object to execute SQL commands\n",
    "cursor = connection.cursor()"
   ]
  },
  {
   "cell_type": "code",
   "execution_count": 3,
   "id": "33d92339-5301-46a8-803b-05565510140a",
   "metadata": {},
   "outputs": [
    {
     "name": "stdout",
     "output_type": "stream",
     "text": [
      "Students table created.\n"
     ]
    }
   ],
   "source": [
    "# Create the Students table\n",
    "create_table_query = '''\n",
    "CREATE TABLE Students (\n",
    "    id INTEGER PRIMARY KEY AUTOINCREMENT,\n",
    "    name TEXT,\n",
    "    age INTEGER,\n",
    "    statistics_marks INTEGER,\n",
    "    python_marks INTEGER,\n",
    "    ml_marks INTEGER,\n",
    "    dl_marks INTEGER\n",
    ");\n",
    "'''\n",
    "\n",
    "cursor.execute(create_table_query)\n",
    "print(\"Students table created.\")"
   ]
  },
  {
   "cell_type": "code",
   "execution_count": 4,
   "id": "b0cb8309-ed1c-465d-bf83-7dbd7030ef06",
   "metadata": {},
   "outputs": [
    {
     "name": "stdout",
     "output_type": "stream",
     "text": [
      "Data inserted into the Students table.\n"
     ]
    }
   ],
   "source": [
    "# Insert data into the Students table\n",
    "insert_data_query = '''\n",
    "INSERT INTO Students (name, age, statistics_marks, python_marks, ml_marks, dl_marks)\n",
    "VALUES \n",
    "('Aarav Patel', 20, 85, 90, 88, 92),\n",
    "('Sophia Smith', 21, 75, 78, 82, 85),\n",
    "('Liam Johnson', 22, 88, 91, 84, 89),\n",
    "('Saanvi Gupta', 19, 92, 89, 95, 91),\n",
    "('Olivia Brown', 23, 80, 87, 85, 90);\n",
    "'''\n",
    "cursor.execute(insert_data_query)\n",
    "connection.commit()  # Commit the transaction\n",
    "\n",
    "print(\"Data inserted into the Students table.\")"
   ]
  },
  {
   "cell_type": "code",
   "execution_count": 5,
   "id": "7714d331-38d5-40e5-87ba-c0487042158c",
   "metadata": {},
   "outputs": [
    {
     "name": "stdout",
     "output_type": "stream",
     "text": [
      "Querying the Students table:\n"
     ]
    },
    {
     "data": {
      "text/html": [
       "<div>\n",
       "<style scoped>\n",
       "    .dataframe tbody tr th:only-of-type {\n",
       "        vertical-align: middle;\n",
       "    }\n",
       "\n",
       "    .dataframe tbody tr th {\n",
       "        vertical-align: top;\n",
       "    }\n",
       "\n",
       "    .dataframe thead th {\n",
       "        text-align: right;\n",
       "    }\n",
       "</style>\n",
       "<table border=\"1\" class=\"dataframe\">\n",
       "  <thead>\n",
       "    <tr style=\"text-align: right;\">\n",
       "      <th></th>\n",
       "      <th>id</th>\n",
       "      <th>name</th>\n",
       "      <th>age</th>\n",
       "      <th>statistics_marks</th>\n",
       "      <th>python_marks</th>\n",
       "      <th>ml_marks</th>\n",
       "      <th>dl_marks</th>\n",
       "    </tr>\n",
       "  </thead>\n",
       "  <tbody>\n",
       "    <tr>\n",
       "      <th>0</th>\n",
       "      <td>1</td>\n",
       "      <td>Aarav Patel</td>\n",
       "      <td>20</td>\n",
       "      <td>85</td>\n",
       "      <td>90</td>\n",
       "      <td>88</td>\n",
       "      <td>92</td>\n",
       "    </tr>\n",
       "    <tr>\n",
       "      <th>1</th>\n",
       "      <td>2</td>\n",
       "      <td>Sophia Smith</td>\n",
       "      <td>21</td>\n",
       "      <td>75</td>\n",
       "      <td>78</td>\n",
       "      <td>82</td>\n",
       "      <td>85</td>\n",
       "    </tr>\n",
       "    <tr>\n",
       "      <th>2</th>\n",
       "      <td>3</td>\n",
       "      <td>Liam Johnson</td>\n",
       "      <td>22</td>\n",
       "      <td>88</td>\n",
       "      <td>91</td>\n",
       "      <td>84</td>\n",
       "      <td>89</td>\n",
       "    </tr>\n",
       "    <tr>\n",
       "      <th>3</th>\n",
       "      <td>4</td>\n",
       "      <td>Saanvi Gupta</td>\n",
       "      <td>19</td>\n",
       "      <td>92</td>\n",
       "      <td>89</td>\n",
       "      <td>95</td>\n",
       "      <td>91</td>\n",
       "    </tr>\n",
       "    <tr>\n",
       "      <th>4</th>\n",
       "      <td>5</td>\n",
       "      <td>Olivia Brown</td>\n",
       "      <td>23</td>\n",
       "      <td>80</td>\n",
       "      <td>87</td>\n",
       "      <td>85</td>\n",
       "      <td>90</td>\n",
       "    </tr>\n",
       "  </tbody>\n",
       "</table>\n",
       "</div>"
      ],
      "text/plain": [
       "   id          name  age  statistics_marks  python_marks  ml_marks  dl_marks\n",
       "0   1   Aarav Patel   20                85            90        88        92\n",
       "1   2  Sophia Smith   21                75            78        82        85\n",
       "2   3  Liam Johnson   22                88            91        84        89\n",
       "3   4  Saanvi Gupta   19                92            89        95        91\n",
       "4   5  Olivia Brown   23                80            87        85        90"
      ]
     },
     "execution_count": 5,
     "metadata": {},
     "output_type": "execute_result"
    }
   ],
   "source": [
    "# Query the Students table and fetch data\n",
    "query = \"SELECT * FROM Students;\"\n",
    "df = pd.read_sql(query, connection)  # Fetch the result into a Pandas DataFrame\n",
    "print(\"Querying the Students table:\")\n",
    "df"
   ]
  },
  {
   "cell_type": "code",
   "execution_count": 6,
   "id": "d074da85-e564-42bf-b8be-edd89f1d462f",
   "metadata": {},
   "outputs": [
    {
     "name": "stdout",
     "output_type": "stream",
     "text": [
      "Updated Sophia Smith's Python marks.\n"
     ]
    }
   ],
   "source": [
    "# Update a record (change 'Sophia Smith' marks in Python to 95)\n",
    "update_query = \"UPDATE Students SET python_marks = 95 WHERE name = 'Sophia Smith';\"\n",
    "cursor.execute(update_query)\n",
    "connection.commit()\n",
    "\n",
    "print(\"Updated Sophia Smith's Python marks.\")"
   ]
  },
  {
   "cell_type": "code",
   "execution_count": 7,
   "id": "d2b6256f-f579-4a6c-b1f7-74f1f27112fb",
   "metadata": {},
   "outputs": [
    {
     "name": "stdout",
     "output_type": "stream",
     "text": [
      "Updated data from the Students table:\n"
     ]
    },
    {
     "data": {
      "text/html": [
       "<div>\n",
       "<style scoped>\n",
       "    .dataframe tbody tr th:only-of-type {\n",
       "        vertical-align: middle;\n",
       "    }\n",
       "\n",
       "    .dataframe tbody tr th {\n",
       "        vertical-align: top;\n",
       "    }\n",
       "\n",
       "    .dataframe thead th {\n",
       "        text-align: right;\n",
       "    }\n",
       "</style>\n",
       "<table border=\"1\" class=\"dataframe\">\n",
       "  <thead>\n",
       "    <tr style=\"text-align: right;\">\n",
       "      <th></th>\n",
       "      <th>id</th>\n",
       "      <th>name</th>\n",
       "      <th>age</th>\n",
       "      <th>statistics_marks</th>\n",
       "      <th>python_marks</th>\n",
       "      <th>ml_marks</th>\n",
       "      <th>dl_marks</th>\n",
       "    </tr>\n",
       "  </thead>\n",
       "  <tbody>\n",
       "    <tr>\n",
       "      <th>0</th>\n",
       "      <td>1</td>\n",
       "      <td>Aarav Patel</td>\n",
       "      <td>20</td>\n",
       "      <td>85</td>\n",
       "      <td>90</td>\n",
       "      <td>88</td>\n",
       "      <td>92</td>\n",
       "    </tr>\n",
       "    <tr>\n",
       "      <th>1</th>\n",
       "      <td>2</td>\n",
       "      <td>Sophia Smith</td>\n",
       "      <td>21</td>\n",
       "      <td>75</td>\n",
       "      <td>95</td>\n",
       "      <td>82</td>\n",
       "      <td>85</td>\n",
       "    </tr>\n",
       "    <tr>\n",
       "      <th>2</th>\n",
       "      <td>3</td>\n",
       "      <td>Liam Johnson</td>\n",
       "      <td>22</td>\n",
       "      <td>88</td>\n",
       "      <td>91</td>\n",
       "      <td>84</td>\n",
       "      <td>89</td>\n",
       "    </tr>\n",
       "    <tr>\n",
       "      <th>3</th>\n",
       "      <td>4</td>\n",
       "      <td>Saanvi Gupta</td>\n",
       "      <td>19</td>\n",
       "      <td>92</td>\n",
       "      <td>89</td>\n",
       "      <td>95</td>\n",
       "      <td>91</td>\n",
       "    </tr>\n",
       "    <tr>\n",
       "      <th>4</th>\n",
       "      <td>5</td>\n",
       "      <td>Olivia Brown</td>\n",
       "      <td>23</td>\n",
       "      <td>80</td>\n",
       "      <td>87</td>\n",
       "      <td>85</td>\n",
       "      <td>90</td>\n",
       "    </tr>\n",
       "  </tbody>\n",
       "</table>\n",
       "</div>"
      ],
      "text/plain": [
       "   id          name  age  statistics_marks  python_marks  ml_marks  dl_marks\n",
       "0   1   Aarav Patel   20                85            90        88        92\n",
       "1   2  Sophia Smith   21                75            95        82        85\n",
       "2   3  Liam Johnson   22                88            91        84        89\n",
       "3   4  Saanvi Gupta   19                92            89        95        91\n",
       "4   5  Olivia Brown   23                80            87        85        90"
      ]
     },
     "execution_count": 7,
     "metadata": {},
     "output_type": "execute_result"
    }
   ],
   "source": [
    "# Verify the update\n",
    "updated_df = pd.read_sql(query, connection)\n",
    "\n",
    "print(\"Updated data from the Students table:\")\n",
    "updated_df"
   ]
  },
  {
   "cell_type": "code",
   "execution_count": 8,
   "id": "8078da70-c8e3-4718-a28f-0f4491ba2b34",
   "metadata": {},
   "outputs": [],
   "source": [
    "# Close the connection when done\n",
    "cursor.close()\n",
    "connection.close()"
   ]
  },
  {
   "cell_type": "code",
   "execution_count": null,
   "id": "3d2f27e1-0416-4c26-911a-17864a12b2da",
   "metadata": {},
   "outputs": [],
   "source": []
  }
 ],
 "metadata": {
  "kernelspec": {
   "display_name": "Python 3 (ipykernel)",
   "language": "python",
   "name": "python3"
  },
  "language_info": {
   "codemirror_mode": {
    "name": "ipython",
    "version": 3
   },
   "file_extension": ".py",
   "mimetype": "text/x-python",
   "name": "python",
   "nbconvert_exporter": "python",
   "pygments_lexer": "ipython3",
   "version": "3.12.6"
  }
 },
 "nbformat": 4,
 "nbformat_minor": 5
}
