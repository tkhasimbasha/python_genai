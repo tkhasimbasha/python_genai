{
 "cells": [
  {
   "cell_type": "markdown",
   "id": "ed2786a7",
   "metadata": {},
   "source": [
    "# 1. Simple Route to Greet the User"
   ]
  },
  {
   "cell_type": "code",
   "execution_count": null,
   "id": "f8c1521b-0bed-42a7-94db-7fdeefb96097",
   "metadata": {},
   "outputs": [],
   "source": [
    "# !pip install flask"
   ]
  },
  {
   "cell_type": "code",
   "execution_count": 1,
   "id": "9b6e9380",
   "metadata": {},
   "outputs": [
    {
     "name": "stdout",
     "output_type": "stream",
     "text": [
      " * Serving Flask app '__main__'\n",
      " * Debug mode: off\n"
     ]
    },
    {
     "name": "stderr",
     "output_type": "stream",
     "text": [
      "WARNING: This is a development server. Do not use it in a production deployment. Use a production WSGI server instead.\n",
      " * Running on http://127.0.0.1:5000\n",
      "Press CTRL+C to quit\n",
      "127.0.0.1 - - [30/Oct/2024 17:21:10] \"GET / HTTP/1.1\" 200 -\n",
      "127.0.0.1 - - [30/Oct/2024 17:21:11] \"GET /favicon.ico HTTP/1.1\" 404 -\n",
      "127.0.0.1 - - [30/Oct/2024 17:21:41] \"GET / HTTP/1.1\" 200 -\n"
     ]
    }
   ],
   "source": [
    "from flask import Flask\n",
    "\n",
    "app = Flask(__name__)\n",
    "\n",
    "@app.route('/')\n",
    "def greet():\n",
    "    return 'Hello, World!'\n",
    "\n",
    "if __name__ == '__main__':\n",
    "    app.run(debug=False)\n",
    "\n",
    "\n",
    "### Accessing the endpoint via curl (Commandline / Terminal)\n",
    "# curl http://localhost:5000/"
   ]
  },
  {
   "cell_type": "code",
   "execution_count": null,
   "id": "fa4f67fc",
   "metadata": {},
   "outputs": [],
   "source": []
  },
  {
   "cell_type": "markdown",
   "id": "d721cb26",
   "metadata": {},
   "source": [
    "# 2. Route with User Input and Computation\n",
    "- Let's create a route that takes a number as input, squares it, and displays the result.\n",
    "- Also `/greet/<name>` route to your Flask application, which takes the username from the URL and greets them."
   ]
  },
  {
   "cell_type": "markdown",
   "id": "25607df6",
   "metadata": {},
   "source": [
    "- We use `render_template_string` to render an HTML template with the result.\n",
    "- `{{variable}}` syntax is from `Jinja2`, used for templating."
   ]
  },
  {
   "cell_type": "code",
   "execution_count": 3,
   "id": "4254f50e",
   "metadata": {},
   "outputs": [
    {
     "name": "stdout",
     "output_type": "stream",
     "text": [
      " * Serving Flask app '__main__'\n",
      " * Debug mode: off\n"
     ]
    },
    {
     "name": "stderr",
     "output_type": "stream",
     "text": [
      "WARNING: This is a development server. Do not use it in a production deployment. Use a production WSGI server instead.\n",
      " * Running on http://127.0.0.1:5000\n",
      "Press CTRL+C to quit\n",
      "127.0.0.1 - - [30/Oct/2024 17:23:02] \"GET / HTTP/1.1\" 404 -\n",
      "127.0.0.1 - - [30/Oct/2024 17:23:39] \"GET /greet/Prashant HTTP/1.1\" 200 -\n",
      "127.0.0.1 - - [30/Oct/2024 17:23:39] \"GET /favicon.ico HTTP/1.1\" 404 -\n",
      "127.0.0.1 - - [30/Oct/2024 17:23:46] \"GET /greet/Amy HTTP/1.1\" 200 -\n",
      "127.0.0.1 - - [30/Oct/2024 17:24:18] \"GET /square/100 HTTP/1.1\" 200 -\n",
      "127.0.0.1 - - [30/Oct/2024 17:24:38] \"GET /square/5 HTTP/1.1\" 200 -\n",
      "127.0.0.1 - - [30/Oct/2024 17:24:42] \"GET /square/ HTTP/1.1\" 404 -\n",
      "127.0.0.1 - - [30/Oct/2024 17:25:31] \"GET /greet/Prashant%20Sahu HTTP/1.1\" 200 -\n",
      "127.0.0.1 - - [30/Oct/2024 17:26:59] \"GET /greet/John%20Doe HTTP/1.1\" 200 -\n"
     ]
    }
   ],
   "source": [
    "from flask import Flask, request, render_template_string\n",
    "\n",
    "app = Flask(__name__)\n",
    "\n",
    "# Captures a string name from the URL.\n",
    "@app.route('/greet/<name>')\n",
    "def greet_user(name):\n",
    "    return render_template_string('<h1>Hello, {{name}}!</h1>', name=name)\n",
    "\n",
    "# The route /square/<int:number> captures an integer from the URL.\n",
    "@app.route('/square/<int:number>')\n",
    "def square(number):\n",
    "    result = number ** 2\n",
    "    return render_template_string('<h1>{{number}} squared is {{result}}</h1>', number=number, result=result)\n",
    "\n",
    "if __name__ == '__main__':\n",
    "    app.run(debug=False)\n",
    "\n",
    "    \n",
    "# Testing with curl\n",
    "# Replace <name> with any username you like.\n",
    "# curl http://localhost:5000/greet/Prashant\n",
    "               \n",
    "# curl http://localhost:5000/square/5    \n",
    "\n"
   ]
  },
  {
   "cell_type": "markdown",
   "id": "63a7740b",
   "metadata": {},
   "source": [
    "**Additional Notes:**\n",
    "\n",
    "- **URL Encoding:**\n",
    "  - If the name contains spaces or special characters, ensure it's URL-encoded.\n",
    "  - Refer to: https://www.w3schools.com/tags/ref_urlencode.asp\n",
    "  - Online URL Encoder: https://www.urlencoder.io/\n",
    "  - For example, for \"John Doe\":\n",
    "\n",
    "    ```bash\n",
    "    curl http://localhost:5000/greet/John%20Doe\n",
    "    ```\n",
    "\n",
    "- **Error Handling:**\n",
    "  - Currently, the code does not handle errors like missing parameters or invalid inputs.\n",
    "  - You might want to add error handling to make your application more robust.\n",
    "\n",
    "**Feel free to ask if you need further clarification or assistance!**"
   ]
  },
  {
   "cell_type": "code",
   "execution_count": null,
   "id": "f2bf039e",
   "metadata": {},
   "outputs": [],
   "source": []
  },
  {
   "cell_type": "markdown",
   "id": "359ebd72",
   "metadata": {},
   "source": [
    "# 3. Route Demonstrating the GET Method\n",
    "Let's create a route that accepts query parameters using the GET method."
   ]
  },
  {
   "cell_type": "markdown",
   "id": "0ac22cde",
   "metadata": {},
   "source": [
    "- `400` is the HTTP status code for `Bad Request`.\n",
    "- By returning `400`, the server indicates to the client that the request was invalid due to missing required parameters."
   ]
  },
  {
   "cell_type": "code",
   "execution_count": 7,
   "id": "569a99a8",
   "metadata": {},
   "outputs": [
    {
     "name": "stdout",
     "output_type": "stream",
     "text": [
      " * Serving Flask app '__main__'\n",
      " * Debug mode: off\n"
     ]
    },
    {
     "name": "stderr",
     "output_type": "stream",
     "text": [
      "WARNING: This is a development server. Do not use it in a production deployment. Use a production WSGI server instead.\n",
      " * Running on http://127.0.0.1:5000\n",
      "Press CTRL+C to quit\n",
      "127.0.0.1 - - [30/Oct/2024 17:30:22] \"GET /sqrt?num1=16&num2=4 HTTP/1.1\" 200 -\n",
      "127.0.0.1 - - [30/Oct/2024 17:30:33] \"GET /sqrt?num1=16 HTTP/1.1\" 400 -\n",
      "127.0.0.1 - - [30/Oct/2024 17:30:51] \"GET /sqrt?num1=16&num2=0 HTTP/1.1\" 400 -\n",
      "127.0.0.1 - - [30/Oct/2024 17:31:00] \"GET /sqrt?num1=-16&num2=4 HTTP/1.1\" 400 -\n",
      "127.0.0.1 - - [30/Oct/2024 17:31:36] \"GET /sqrt?num1=16&num2=4 HTTP/1.1\" 200 -\n"
     ]
    }
   ],
   "source": [
    "from flask import Flask, request, render_template_string\n",
    "import math\n",
    "\n",
    "app = Flask(__name__)\n",
    "\n",
    "@app.route('/sqrt', methods=['GET'])\n",
    "def compute_sqrt():\n",
    "    try:\n",
    "        # Retrieve numbers from query parameters and convert to float\n",
    "        num1 = request.args.get('num1', type=float)\n",
    "        num2 = request.args.get('num2', type=float)\n",
    "\n",
    "        # Check if both numbers are provided\n",
    "        if num1 is None or num2 is None:\n",
    "            # Return error message with HTTP 400 status code\n",
    "            return render_template_string(\n",
    "                '<h1>Error: Both num1 and num2 parameters are required.</h1>'\n",
    "            ), 400\n",
    "\n",
    "        # Prevent division by zero\n",
    "        if num2 == 0:\n",
    "            return render_template_string(\n",
    "                '<h1>Error: Division by zero is not allowed.</h1>'\n",
    "            ), 400\n",
    "\n",
    "        # Compute the division of num1 by num2\n",
    "        division_result = num1 / num2\n",
    "\n",
    "        # Ensure the result is non-negative for square root\n",
    "        if division_result < 0:\n",
    "            return render_template_string(\n",
    "                '<h1>Error: Cannot compute square root of a negative number.</h1>'\n",
    "            ), 400\n",
    "\n",
    "        # Compute the square root\n",
    "        sqrt_result = math.sqrt(division_result)\n",
    "\n",
    "        # Return the result\n",
    "        return render_template_string(\n",
    "            '<h1>Square root of {{division_result}} is {{sqrt_result}}</h1>',\n",
    "            division_result=division_result,\n",
    "            sqrt_result=sqrt_result\n",
    "        )\n",
    "\n",
    "    except ValueError:\n",
    "        # Handle cases where inputs are not numbers\n",
    "        return render_template_string(\n",
    "            '<h1>Error: Invalid input. Please provide numeric values for num1 and num2.</h1>'\n",
    "        ), 400\n",
    "\n",
    "   \n",
    "if __name__ == '__main__':\n",
    "    app.run(debug=False)\n",
    "    \n",
    "# Testing with curl\n",
    "# curl \"http://localhost:5000/sqrt?num1=16&num2=4\"\n",
    "# curl \"http://localhost:5000/sqrt?num2=4\"\n",
    "# curl \"http://localhost:5000/sqrt?num1=16&num2=0\"\n",
    "# curl \"http://localhost:5000/sqrt?num1=-16&num2=4\"\n",
    "# curl \"http://localhost:5000/sqrt?num1=abc&num2=4\"\n",
    "\n"
   ]
  },
  {
   "cell_type": "markdown",
   "id": "6b57cc42",
   "metadata": {},
   "source": [
    "### Accessing via Web Browser:\n",
    "You can also test the endpoint by navigating to:\n",
    "\n",
    "- Valid Input: http://localhost:5000/sqrt?num1=16&num2=4\n",
    "- Missing Parameters: http://localhost:5000/sqrt?num1=16\n",
    "- Division by Zero: http://localhost:5000/sqrt?num1=16&num2=0\n",
    "- Negative Result: http://localhost:5000/sqrt?num1=-16&num2=4"
   ]
  },
  {
   "cell_type": "code",
   "execution_count": null,
   "id": "a1606bfa",
   "metadata": {},
   "outputs": [],
   "source": []
  },
  {
   "cell_type": "markdown",
   "id": "178899d5",
   "metadata": {},
   "source": [
    "# 4. Route Demonstrating the POST Method\n",
    "We'll create a route that accepts data via POST and displays it."
   ]
  },
  {
   "cell_type": "code",
   "execution_count": 13,
   "id": "db61867e",
   "metadata": {},
   "outputs": [
    {
     "name": "stdout",
     "output_type": "stream",
     "text": [
      " * Serving Flask app '__main__'\n",
      " * Debug mode: off\n"
     ]
    },
    {
     "name": "stderr",
     "output_type": "stream",
     "text": [
      "WARNING: This is a development server. Do not use it in a production deployment. Use a production WSGI server instead.\n",
      " * Running on http://127.0.0.1:5000\n",
      "Press CTRL+C to quit\n",
      "127.0.0.1 - - [30/Oct/2024 17:35:21] \"POST /submit HTTP/1.1\" 200 -\n",
      "127.0.0.1 - - [30/Oct/2024 17:35:24] \"GET /submit HTTP/1.1\" 200 -\n",
      "127.0.0.1 - - [30/Oct/2024 17:35:52] \"POST /submit HTTP/1.1\" 200 -\n"
     ]
    }
   ],
   "source": [
    "from flask import Flask, request, render_template_string\n",
    "\n",
    "app = Flask(__name__)\n",
    "\n",
    "@app.route('/submit', methods=['GET', 'POST'])\n",
    "def submit():\n",
    "    if request.method == 'POST':\n",
    "        message = request.form.get('message', 'No message')\n",
    "        return render_template_string('<h1>You submitted:<hr /> {{message}}</h1>', message=message)\n",
    "    else:\n",
    "        # Display a simple form\n",
    "        return '''\n",
    "            <form method=\"post\" action=\"/submit\">\n",
    "                <input type=\"text\" name=\"message\" placeholder=\"Enter a message\" />\n",
    "                <input type=\"submit\" />\n",
    "            </form>\n",
    "        '''\n",
    "\n",
    "if __name__ == '__main__':\n",
    "    app.run(debug=False)\n",
    "\n",
    "    \n",
    "# Access it here: http://127.0.0.1:5000/submit\n",
    "\n",
    "# curl -X POST -d \"your message\" http://localhost:5000/submit"
   ]
  },
  {
   "cell_type": "code",
   "execution_count": null,
   "id": "d5922fdd",
   "metadata": {},
   "outputs": [],
   "source": [
    "# import requests\n",
    "\n",
    "# # URL of the Flask endpoint\n",
    "# url = 'http://127.0.0.1:5000/submit'\n",
    "\n",
    "# # Data to be sent in the POST request\n",
    "# data = {\n",
    "#     'message': 'Hello, Flask!'\n",
    "# }\n",
    "\n",
    "# # Make the POST request\n",
    "# response = requests.post(url, data=data)\n",
    "\n",
    "# # Print the response content\n",
    "# print(response.text)"
   ]
  },
  {
   "cell_type": "markdown",
   "id": "16d58ace",
   "metadata": {},
   "source": [
    "### 4A: Modify your Flask endpoint to accept JSON data"
   ]
  },
  {
   "cell_type": "code",
   "execution_count": 15,
   "id": "b73d260b",
   "metadata": {},
   "outputs": [
    {
     "name": "stdout",
     "output_type": "stream",
     "text": [
      " * Serving Flask app '__main__'\n",
      " * Debug mode: off\n"
     ]
    },
    {
     "name": "stderr",
     "output_type": "stream",
     "text": [
      "WARNING: This is a development server. Do not use it in a production deployment. Use a production WSGI server instead.\n",
      " * Running on http://127.0.0.1:5000\n",
      "Press CTRL+C to quit\n",
      "127.0.0.1 - - [30/Oct/2024 17:38:50] \"POST /submit HTTP/1.1\" 200 -\n"
     ]
    }
   ],
   "source": [
    "from flask import Flask, request, jsonify\n",
    "\n",
    "app = Flask(__name__)\n",
    "\n",
    "@app.route('/submit', methods=['GET', 'POST'])\n",
    "def submit():\n",
    "    if request.method == 'POST':\n",
    "        data = request.get_json()\n",
    "        message = data.get('message', 'No message')\n",
    "        return jsonify({'response': f'You submitted: {message}'})\n",
    "    else:\n",
    "        return '''\n",
    "            <form method=\"post\" action=\"/submit\">\n",
    "                <input type=\"text\" name=\"message\" placeholder=\"Enter a message\" />\n",
    "                <input type=\"submit\" />\n",
    "            </form>\n",
    "        '''\n",
    "\n",
    "if __name__ == '__main__':\n",
    "    app.run(debug=False)\n"
   ]
  },
  {
   "cell_type": "code",
   "execution_count": null,
   "id": "8fa8b7aa",
   "metadata": {},
   "outputs": [],
   "source": [
    "# import requests\n",
    "\n",
    "# url = 'http://127.0.0.1:5000/submit'\n",
    "\n",
    "# json_data = {\n",
    "#     'message': 'Hello, Flask with JSON!'\n",
    "# }\n",
    "\n",
    "# response = requests.post(url, json=json_data)\n",
    "\n",
    "# print(response.json())\n"
   ]
  },
  {
   "cell_type": "code",
   "execution_count": null,
   "id": "3c199e49",
   "metadata": {},
   "outputs": [],
   "source": []
  },
  {
   "cell_type": "code",
   "execution_count": null,
   "id": "d95c7247",
   "metadata": {},
   "outputs": [],
   "source": []
  },
  {
   "cell_type": "markdown",
   "id": "af79cb04",
   "metadata": {},
   "source": [
    "# 5. Advanced APP Route using HTML templates and CSS rendering"
   ]
  },
  {
   "cell_type": "code",
   "execution_count": null,
   "id": "36d6fd1d",
   "metadata": {},
   "outputs": [
    {
     "name": "stdout",
     "output_type": "stream",
     "text": [
      " * Serving Flask app '__main__'\n",
      " * Debug mode: off\n"
     ]
    },
    {
     "name": "stderr",
     "output_type": "stream",
     "text": [
      "WARNING: This is a development server. Do not use it in a production deployment. Use a production WSGI server instead.\n",
      " * Running on http://127.0.0.1:5000\n",
      "Press CTRL+C to quit\n",
      "127.0.0.1 - - [30/Oct/2024 17:41:57] \"GET / HTTP/1.1\" 200 -\n",
      "127.0.0.1 - - [30/Oct/2024 17:41:57] \"GET /static/styles.css HTTP/1.1\" 200 -\n",
      "127.0.0.1 - - [30/Oct/2024 17:42:04] \"GET /sqrt HTTP/1.1\" 200 -\n",
      "127.0.0.1 - - [30/Oct/2024 17:42:04] \"GET /static/styles.css HTTP/1.1\" 304 -\n",
      "127.0.0.1 - - [30/Oct/2024 17:42:20] \"POST /sqrt HTTP/1.1\" 200 -\n",
      "127.0.0.1 - - [30/Oct/2024 17:42:20] \"GET /static/styles.css HTTP/1.1\" 304 -\n",
      "127.0.0.1 - - [30/Oct/2024 17:42:27] \"GET /sqrt HTTP/1.1\" 200 -\n",
      "127.0.0.1 - - [30/Oct/2024 17:42:27] \"GET /static/styles.css HTTP/1.1\" 304 -\n",
      "127.0.0.1 - - [30/Oct/2024 17:42:34] \"GET / HTTP/1.1\" 200 -\n",
      "127.0.0.1 - - [30/Oct/2024 17:42:34] \"GET /static/styles.css HTTP/1.1\" 304 -\n",
      "127.0.0.1 - - [30/Oct/2024 17:42:38] \"GET /sqrt HTTP/1.1\" 200 -\n",
      "127.0.0.1 - - [30/Oct/2024 17:42:38] \"GET /static/styles.css HTTP/1.1\" 304 -\n",
      "127.0.0.1 - - [30/Oct/2024 17:42:50] \"POST /sqrt HTTP/1.1\" 200 -\n",
      "127.0.0.1 - - [30/Oct/2024 17:42:50] \"GET /static/styles.css HTTP/1.1\" 304 -\n"
     ]
    }
   ],
   "source": [
    "from flask import Flask, request, render_template\n",
    "import math\n",
    "\n",
    "app = Flask(__name__)\n",
    "\n",
    "@app.route('/')\n",
    "def home():\n",
    "    return render_template('home.html')\n",
    "\n",
    "@app.route('/sqrt', methods=['GET','POST'])\n",
    "def compute_sqrt():\n",
    "    if request.method == 'POST':\n",
    "        try:\n",
    "            num1 = request.form.get('num1', type=float)\n",
    "            num2 = request.form.get('num2', type=float)\n",
    "\n",
    "            if num1 is None or num2 is None:\n",
    "                error = 'Both Number 1 and Number 2 are required.'\n",
    "                return render_template('form.html', error=error)\n",
    "\n",
    "            if num2 == 0:\n",
    "                error = 'Division by zero is not allowed.'\n",
    "                return render_template('form.html', error=error)\n",
    "\n",
    "            division_result = num1 / num2\n",
    "\n",
    "            if division_result < 0:\n",
    "                error = 'Cannot compute square root of a negative number.'\n",
    "                return render_template('form.html', error=error)\n",
    "\n",
    "            sqrt_result = math.sqrt(division_result)\n",
    "\n",
    "            return render_template(\n",
    "                'result.html',\n",
    "                division_result=division_result,\n",
    "                sqrt_result=sqrt_result\n",
    "            )\n",
    "\n",
    "        except (ValueError, TypeError):\n",
    "            error = 'Invalid input. Please provide numeric values for Number 1 and Number 2.'\n",
    "            return render_template('form.html', error=error)\n",
    "    else:\n",
    "        return render_template('form.html')\n",
    "\n",
    "if __name__ == '__main__':\n",
    "    app.run(debug=False)\n",
    "\n",
    "# http://127.0.0.1:5000\n"
   ]
  },
  {
   "cell_type": "markdown",
   "id": "1471f335",
   "metadata": {},
   "source": [
    "- app.py: The main Flask application script.\n",
    "- static/: Contains static files like CSS, JavaScript, images, etc. The styles.css file is placed here.\n",
    "\n",
    "- templates/: Contains HTML templates rendered by Flask.\n",
    "\n",
    "- form.html is the template for the form page.\n",
    "- result.html is the template for displaying the computation result."
   ]
  },
  {
   "cell_type": "code",
   "execution_count": null,
   "id": "d30a59d9",
   "metadata": {},
   "outputs": [],
   "source": []
  },
  {
   "cell_type": "markdown",
   "id": "2869f3b7",
   "metadata": {},
   "source": [
    "## **Understanding the `304 Not Modified` Status Code**\n",
    "\n",
    "### **What is `304 Not Modified`?**\n",
    "\n",
    "- **Definition:**\n",
    "  - The `304 Not Modified` is an HTTP status code indicating that the requested resource has not been modified since the last time it was requested.\n",
    "- **Purpose:**\n",
    "  - It tells the client (usually a web browser) that it can use the cached version of the resource, reducing the need to download it again.\n",
    "\n",
    "\n",
    "### **Benefits of `304 Not Modified`:**\n",
    "\n",
    "- **Reduced Server Load:**\n",
    "  - Less data is sent over the network.\n",
    "- **Faster Load Times:**\n",
    "  - The browser can render the page more quickly using cached resources.\n",
    "- **Optimized Bandwidth Usage:**\n",
    "  - Particularly beneficial for users with limited or metered internet connections.\n",
    "\n"
   ]
  },
  {
   "cell_type": "code",
   "execution_count": null,
   "id": "c063f302",
   "metadata": {},
   "outputs": [],
   "source": []
  }
 ],
 "metadata": {
  "kernelspec": {
   "display_name": "Python 3 (ipykernel)",
   "language": "python",
   "name": "python3"
  },
  "language_info": {
   "codemirror_mode": {
    "name": "ipython",
    "version": 3
   },
   "file_extension": ".py",
   "mimetype": "text/x-python",
   "name": "python",
   "nbconvert_exporter": "python",
   "pygments_lexer": "ipython3",
   "version": "3.12.4"
  }
 },
 "nbformat": 4,
 "nbformat_minor": 5
}
