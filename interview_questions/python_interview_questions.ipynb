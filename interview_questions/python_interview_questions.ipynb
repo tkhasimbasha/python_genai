{
  "nbformat": 4,
  "nbformat_minor": 0,
  "metadata": {
    "colab": {
      "provenance": [],
      "authorship_tag": "ABX9TyOERnwCEKVcIpDd1cnACL4b",
      "include_colab_link": true
    },
    "kernelspec": {
      "name": "python3",
      "display_name": "Python 3"
    },
    "language_info": {
      "name": "python"
    }
  },
  "cells": [
    {
      "cell_type": "markdown",
      "metadata": {
        "id": "view-in-github",
        "colab_type": "text"
      },
      "source": [
        "<a href=\"https://colab.research.google.com/github/tkhasimbasha/python_genai/blob/master/interview_questions/python_interview_questions.ipynb\" target=\"_parent\"><img src=\"https://colab.research.google.com/assets/colab-badge.svg\" alt=\"Open In Colab\"/></a>"
      ]
    },
    {
      "cell_type": "markdown",
      "source": [
        "Question 1: Write a Python program to Reverse a String"
      ],
      "metadata": {
        "id": "nh3rIf4eaPme"
      }
    },
    {
      "cell_type": "code",
      "source": [
        "def reverse_string(input_string):\n",
        "    return input_string[::-1]"
      ],
      "metadata": {
        "id": "99W1haOyaVTw"
      },
      "execution_count": 3,
      "outputs": []
    },
    {
      "cell_type": "code",
      "source": [
        "print(reverse_string(\"hello\"))"
      ],
      "metadata": {
        "colab": {
          "base_uri": "https://localhost:8080/"
        },
        "id": "TjfWLkExamyw",
        "outputId": "cbcca5cd-c057-4876-ed90-9e51c51a353e"
      },
      "execution_count": 4,
      "outputs": [
        {
          "output_type": "stream",
          "name": "stdout",
          "text": [
            "olleh\n"
          ]
        }
      ]
    },
    {
      "cell_type": "code",
      "source": [
        "\"\"\"without indexing \"\"\"\n",
        "def reverse_string_no_index(input_string):\n",
        "    reversed_string = \"\"\n",
        "    for char in input_string:\n",
        "        reversed_string = char + reversed_string\n",
        "    return reversed_string"
      ],
      "metadata": {
        "id": "fcFg0tYAb0k1"
      },
      "execution_count": 19,
      "outputs": []
    },
    {
      "cell_type": "code",
      "source": [
        "print(reverse_string_no_index(\"hello tiger\"))"
      ],
      "metadata": {
        "colab": {
          "base_uri": "https://localhost:8080/"
        },
        "id": "GkBN01PScNnj",
        "outputId": "2490ad5a-49bd-4a04-ea59-84b95c14fed7"
      },
      "execution_count": 7,
      "outputs": [
        {
          "output_type": "stream",
          "name": "stdout",
          "text": [
            "regit olleh\n"
          ]
        }
      ]
    },
    {
      "cell_type": "code",
      "source": [
        "def reverse_string(input_string):\n",
        "  \"\"\"Reverses a given string.\"\"\"\n",
        "  return input_string[::-1]\n",
        "\n",
        "# Example usage:\n",
        "print(reverse_string(\"hello\"))"
      ],
      "metadata": {
        "id": "AvmpKHaGaout"
      },
      "execution_count": null,
      "outputs": []
    },
    {
      "cell_type": "markdown",
      "source": [
        "Question 2: Write a Python program to check Palindrome."
      ],
      "metadata": {
        "id": "IHzOUmDAciMi"
      }
    },
    {
      "cell_type": "code",
      "source": [
        "def check_palindrome(input_value):\n",
        "    \"\"\"Checks if the input value is a palindrome and prints the input and reversed strings.\"\"\"\n",
        "    # Convert the input to a string\n",
        "    input_string = str(input_value)\n",
        "    input_string_formatted = input_string.replace(\" \",\"\").lower()\n",
        "    # Reverse the string\n",
        "    reversed_string = reverse_string_no_index(input_string_formatted)\n",
        "\n",
        "    # Print the input and reversed strings\n",
        "    print(f\"Input string: '{input_string_formatted}', Reversed string: '{reversed_string}'\")\n",
        "\n",
        "    # Check if the original string is equal to the reversed string\n",
        "    return input_string_formatted == reversed_string"
      ],
      "metadata": {
        "id": "yIYR5aJfcoMF"
      },
      "execution_count": 50,
      "outputs": []
    },
    {
      "cell_type": "code",
      "source": [
        "print(check_palindrome(\"madam\"))"
      ],
      "metadata": {
        "colab": {
          "base_uri": "https://localhost:8080/"
        },
        "id": "pixcJKlacojr",
        "outputId": "efd5ba2b-28f4-42c3-8c24-faa1a57292d9"
      },
      "execution_count": 51,
      "outputs": [
        {
          "output_type": "stream",
          "name": "stdout",
          "text": [
            "Input string: 'madam', Reversed string: 'madam'\n",
            "True\n"
          ]
        }
      ]
    },
    {
      "cell_type": "code",
      "source": [
        "print(check_palindrome(\"Sit on a potato pan Otis\"))\n",
        "print(check_palindrome(121))"
      ],
      "metadata": {
        "colab": {
          "base_uri": "https://localhost:8080/"
        },
        "id": "TeVSSymZdAp-",
        "outputId": "1e00a2e3-c7b3-42b3-8451-f4bed9fd5993"
      },
      "execution_count": 52,
      "outputs": [
        {
          "output_type": "stream",
          "name": "stdout",
          "text": [
            "Input string: 'sitonapotatopanotis', Reversed string: 'sitonapotatopanotis'\n",
            "True\n",
            "Input string: '121', Reversed string: '121'\n",
            "True\n"
          ]
        }
      ]
    },
    {
      "cell_type": "code",
      "source": [
        "\n",
        "print(type(\"hello\"))"
      ],
      "metadata": {
        "colab": {
          "base_uri": "https://localhost:8080/"
        },
        "id": "dWRd8fM5dCjK",
        "outputId": "8ab9570b-8cf6-412a-9aca-aa180535e049"
      },
      "execution_count": 13,
      "outputs": [
        {
          "output_type": "stream",
          "name": "stdout",
          "text": [
            "<class 'str'>\n"
          ]
        }
      ]
    },
    {
      "cell_type": "markdown",
      "source": [
        "Question 3: Write a Python program to Count Vowels in a String"
      ],
      "metadata": {
        "id": "2x9ARzjIfkRw"
      }
    },
    {
      "cell_type": "code",
      "source": [
        "def count_vowels(input_string):\n",
        "    vowel_string = \"aeiouAEIOU\"\n",
        "    count = 0\n",
        "    for char in input_string:\n",
        "        if char in vowel_string:\n",
        "            count += 1\n",
        "    return count\n",
        "\n"
      ],
      "metadata": {
        "id": "BOkyYUxMiPJ3"
      },
      "execution_count": 53,
      "outputs": []
    },
    {
      "cell_type": "code",
      "source": [
        "print(count_vowels(\"aeiouaeioua\"))"
      ],
      "metadata": {
        "colab": {
          "base_uri": "https://localhost:8080/"
        },
        "id": "eAYmkMyE4UZ7",
        "outputId": "36c6154a-77c2-4376-d919-d4b117bb463d"
      },
      "execution_count": 55,
      "outputs": [
        {
          "output_type": "stream",
          "name": "stdout",
          "text": [
            "11\n"
          ]
        }
      ]
    },
    {
      "cell_type": "code",
      "source": [],
      "metadata": {
        "id": "pAOv3nGM4ZoX"
      },
      "execution_count": null,
      "outputs": []
    }
  ]
}