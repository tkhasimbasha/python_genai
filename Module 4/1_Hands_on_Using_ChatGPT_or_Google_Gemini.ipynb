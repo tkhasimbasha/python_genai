{
 "cells": [
  {
   "cell_type": "markdown",
   "metadata": {
    "id": "fb6rdwlCsCGt"
   },
   "source": [
    "# Using ChatGPT or Google Gemini with Python for real-world tasks using thier APIs"
   ]
  },
  {
   "cell_type": "code",
   "execution_count": null,
   "metadata": {
    "colab": {
     "base_uri": "https://localhost:8080/"
    },
    "id": "2evPp14fy258",
    "outputId": "53191126-c6e5-47a4-90de-2a8f2bfcc70f"
   },
   "outputs": [],
   "source": [
    "# !pip install openai"
   ]
  },
  {
   "cell_type": "markdown",
   "metadata": {
    "id": "5N_Lly09l0P9"
   },
   "source": [
    "## Optional: Install Google Gemini\n",
    "\n",
    "Google Gemini API is free (till now). You can get a key [here](https://aistudio.google.com/app/apikey), just need to sign in with your google account. Gemini may not be available fully in EU."
   ]
  },
  {
   "cell_type": "code",
   "execution_count": null,
   "metadata": {
    "id": "UKbTnx8pl8kt"
   },
   "outputs": [],
   "source": [
    "# pip install -q -U google-generativeai"
   ]
  },
  {
   "cell_type": "markdown",
   "metadata": {
    "id": "CiwGjVWK4q6F"
   },
   "source": [
    "## Load OpenAI API Credentials\n"
   ]
  },
  {
   "cell_type": "code",
   "execution_count": 1,
   "metadata": {
    "colab": {
     "base_uri": "https://localhost:8080/"
    },
    "id": "ryheOZuXxa41",
    "outputId": "24680ee7-352c-47e2-a346-99802f86b75c"
   },
   "outputs": [
    {
     "name": "stdin",
     "output_type": "stream",
     "text": [
      "Enter your OpenAI API Key:  ········\n"
     ]
    }
   ],
   "source": [
    "from getpass import getpass\n",
    "\n",
    "openai_key = getpass(\"Enter your OpenAI API Key: \")"
   ]
  },
  {
   "cell_type": "code",
   "execution_count": 2,
   "metadata": {
    "id": "kDe44J0N0NcC"
   },
   "outputs": [],
   "source": [
    "import openai\n",
    "from IPython.display import HTML\n",
    "\n",
    "openai.api_key = openai_key"
   ]
  },
  {
   "cell_type": "markdown",
   "metadata": {
    "id": "LS7koM2emZ_M"
   },
   "source": [
    "## Load Gemini API credentials\n",
    "\n",
    "Run this section only if you are using Google Gemini"
   ]
  },
  {
   "cell_type": "code",
   "execution_count": 3,
   "metadata": {
    "colab": {
     "base_uri": "https://localhost:8080/"
    },
    "id": "YgpTrZ6rVd4I",
    "outputId": "44bc2dcf-1274-420b-ef1c-156709f04f68"
   },
   "outputs": [
    {
     "name": "stdin",
     "output_type": "stream",
     "text": [
      "Enter your Gemini API Key:  ········\n"
     ]
    }
   ],
   "source": [
    "from getpass import getpass\n",
    "\n",
    "gemini_key = getpass(\"Enter your Gemini API Key: \")"
   ]
  },
  {
   "cell_type": "code",
   "execution_count": 4,
   "metadata": {
    "id": "nxJAcO1MmhRo"
   },
   "outputs": [],
   "source": [
    "import google.generativeai as genai\n",
    "\n",
    "GOOGLE_API_KEY = gemini_key\n",
    "genai.configure(api_key=GOOGLE_API_KEY)"
   ]
  },
  {
   "cell_type": "code",
   "execution_count": null,
   "metadata": {},
   "outputs": [],
   "source": []
  },
  {
   "cell_type": "code",
   "execution_count": null,
   "metadata": {},
   "outputs": [],
   "source": []
  },
  {
   "cell_type": "markdown",
   "metadata": {
    "id": "VDWhgxCy5bA6"
   },
   "source": [
    "## Create ChatGPT and Google Gemini Chat Completion Access Function\n",
    "\n",
    "This function will use the [Chat Completion API](https://platform.openai.com/docs/api-reference/chat/create) to access ChatGPT for us and return responses\n",
    "\n",
    "We also add the capability to access the [Google Gemini API](https://ai.google.dev/tutorials/python_quickstart) if you want to use Gemini Pro instead of ChatGPT"
   ]
  },
  {
   "cell_type": "code",
   "execution_count": 5,
   "metadata": {
    "id": "kA9gVCwK0WKd"
   },
   "outputs": [],
   "source": [
    "def get_completion(prompt, model=\"gpt-4o\"):\n",
    "  if model == \"gpt-4o\":\n",
    "    messages = [{\"role\": \"user\", \"content\": prompt}]\n",
    "    response = openai.chat.completions.create(\n",
    "        model=model,\n",
    "        messages=messages,\n",
    "        temperature=0.1, # degree of randomness of the model's output\n",
    "    )\n",
    "    return response.choices[0].message.content\n",
    "      \n",
    "  if model == 'gemini-pro':\n",
    "    model = genai.GenerativeModel('gemini-pro')\n",
    "    response = model.generate_content(prompt)\n",
    "    return response.text\n",
    "  else:\n",
    "    return \"LLM not configured! Please configure logic for specific model in get_completion()\""
   ]
  },
  {
   "cell_type": "code",
   "execution_count": null,
   "metadata": {},
   "outputs": [],
   "source": []
  },
  {
   "cell_type": "code",
   "execution_count": null,
   "metadata": {},
   "outputs": [],
   "source": []
  },
  {
   "cell_type": "markdown",
   "metadata": {
    "id": "r6L1tETs06Go"
   },
   "source": [
    "## Exercise-1: Text Generation with both ChatGPT and Google Gemini\n",
    "- Get ChatGPT to generate text by asking it to write a story\n",
    "\n"
   ]
  },
  {
   "cell_type": "code",
   "execution_count": 6,
   "metadata": {
    "colab": {
     "base_uri": "https://localhost:8080/"
    },
    "id": "R0VDZwEG1B8N",
    "outputId": "18aa92fb-5709-4618-cd54-a173c107d1ac"
   },
   "outputs": [
    {
     "name": "stdout",
     "output_type": "stream",
     "text": [
      "Lena sat cross-legged on her dorm room bed, surrounded by a fortress of textbooks and half-empty coffee mugs. The soft hum of the campus outside her window was a constant reminder of the world bustling beyond her walls, but inside, it was just her and the relentless pursuit of understanding organic chemistry.\n",
      "\n",
      "It was her sophomore year at Westfield University, and Lena was determined to make it count. She had always been the kind of person who thrived on challenges, and college was no exception. Her parents had worked tirelessly to support her education, and she was determined to make them proud.\n",
      "\n",
      "The clock on her desk ticked steadily towards midnight, but Lena was unfazed. She had a quiz the next morning, and she was determined to master the intricacies of carbon compounds before she allowed herself the luxury of sleep. Her roommate, Jess, had long since retreated to the library, seeking solace in the quiet stacks for her own study session.\n",
      "\n",
      "As Lena flipped through her notes, her phone buzzed with a message. It was from her younger brother, Max, who was still in high school back home. \"Hey, Lena! Just wanted to say good luck on your quiz tomorrow. You've got this!\"\n",
      "\n",
      "A smile tugged at Lena's lips. Max had always been her biggest cheerleader, and his unwavering belief in her abilities was a source of strength. She quickly typed back a response, thanking him and promising to call him over the weekend.\n",
      "\n",
      "Feeling a renewed sense of determination, Lena returned to her studies. She had always been fascinated by the way molecules interacted, the dance of atoms that formed the foundation of life itself. It was this curiosity that had drawn her to chemistry in the first place, and despite the late hour, she felt a spark of excitement as she delved deeper into the material.\n",
      "\n",
      "Hours passed in a blur of equations and diagrams, and before she knew it, the first light of dawn was creeping through her window. Lena stretched, feeling the satisfying ache of a night well spent. She glanced at the clock and realized she had just enough time to grab a quick shower and a cup of coffee before heading to class.\n",
      "\n",
      "As she walked across the campus, the crisp morning air filled her lungs, invigorating her tired body. The familiar path to the science building was lined with trees just beginning to show the vibrant colors of autumn, and Lena felt a sense of peace wash over her.\n",
      "\n",
      "In the lecture hall, she settled into her seat, her mind sharp and ready. The professor handed out the quizzes, and Lena took a deep breath, focusing on the task at hand. As she worked through the questions, she felt a sense of confidence growing within her. The hours of study had paid off, and she knew she was prepared.\n",
      "\n",
      "When the quiz was over, Lena walked out of the lecture hall with a sense of accomplishment. She had faced the challenge head-on and emerged victorious. As she made her way to the campus café to meet Jess for a well-deserved breakfast, she thought about the journey ahead. There would be more late nights and difficult exams, but Lena knew she was ready for whatever came her way.\n",
      "\n",
      "With her brother's encouragement echoing in her mind and the support of friends like Jess, Lena felt unstoppable. College was just one chapter in her story, and she was determined to make it a memorable one.\n"
     ]
    }
   ],
   "source": [
    "response = get_completion(\"Write a short story about a college student.\")\n",
    "print(response)"
   ]
  },
  {
   "cell_type": "code",
   "execution_count": null,
   "metadata": {},
   "outputs": [],
   "source": []
  },
  {
   "cell_type": "code",
   "execution_count": 7,
   "metadata": {
    "colab": {
     "base_uri": "https://localhost:8080/",
     "height": 297
    },
    "id": "065uztCC8m1R",
    "outputId": "7d523a90-844e-4aac-d182-87374e61741d"
   },
   "outputs": [
    {
     "name": "stdout",
     "output_type": "stream",
     "text": [
      "In the bustling halls of Crestwood University, amidst the cacophony of footsteps and chatter, walked Emily Carter, a bright and driven college student. With her backpack laden with textbooks, she navigated the maze of corridors with an air of determination.\n",
      "\n",
      "Life at Crestwood was a whirlwind of lectures, assignments, and exams. Emily immersed herself in her studies, spending countless hours poring over notes and attending study groups. However, beneath her academic facade lay a secret longing for something more than just books and grades.\n",
      "\n",
      "One evening, as Emily trudged back to her dorm after a particularly taxing day, she noticed a small poster on a bulletin board. It advertised an open mic night at the campus coffee shop, the \"Brewed Awakening.\" Intrigued, she hesitated for a moment before deciding to check it out.\n",
      "\n",
      "That night, the coffee shop transformed into a cozy haven. The scent of freshly ground beans wafted through the air as Emily took a seat in a corner. As the first musician took to the stage, her shy demeanor faded away. The raw emotion pouring forth from the melodies and lyrics captivated her.\n",
      "\n",
      "Inspired, Emily approached the open mic list and signed up. With trembling hands, she took the stage and shared her own original song. Her voice filled the room with a bittersweet melody, reflecting both her struggles and her dreams.\n",
      "\n",
      "As the applause thundered, a sense of fulfillment washed over Emily. For the first time, she felt truly connected to her campus community. The open mic night had ignited a spark within her, awakening a new passion that had long been dormant.\n",
      "\n",
      "From that day forward, Emily continued to perform at the \"Brewed Awakening.\" Through music, she found a way to express herself beyond the confines of academia. It became her sanctuary, a place where she could escape the pressures of college life and embrace her true self.\n"
     ]
    }
   ],
   "source": [
    "# with Gemini\n",
    "response = get_completion(\"Write a short story about a college student.\", model='gemini-pro')\n",
    "print(response)"
   ]
  },
  {
   "cell_type": "code",
   "execution_count": null,
   "metadata": {},
   "outputs": [],
   "source": []
  },
  {
   "cell_type": "code",
   "execution_count": null,
   "metadata": {},
   "outputs": [],
   "source": []
  },
  {
   "cell_type": "markdown",
   "metadata": {
    "id": "1TFZjzuGjCOw"
   },
   "source": [
    "## Exercise-2: Let's try out Zero Shot Prompting!\n",
    "\n",
    "- Let's get the model to answer the question about Generative AI\n",
    "\n",
    "\n",
    "\n"
   ]
  },
  {
   "cell_type": "code",
   "execution_count": 8,
   "metadata": {},
   "outputs": [],
   "source": [
    "from IPython.display import display, Markdown"
   ]
  },
  {
   "cell_type": "code",
   "execution_count": 9,
   "metadata": {
    "colab": {
     "base_uri": "https://localhost:8080/"
    },
    "id": "KK-kjmMoi5rO",
    "outputId": "928ed825-3262-4e7f-881f-36c66dee1a28"
   },
   "outputs": [
    {
     "data": {
      "text/markdown": [
       "- **Creation of New Content:** Generative AI refers to algorithms, often based on machine learning models like neural networks, that can create new content such as text, images, music, or code. These models learn patterns and structures from existing data and use this knowledge to generate novel outputs that mimic human-like creativity.\n",
       "\n",
       "- **Applications and Impact:** Generative AI has a wide range of applications, including content creation, design, entertainment, and more. It can enhance productivity by automating creative tasks, but it also raises ethical considerations regarding originality, authorship, and the potential for misuse in generating misleading or harmful content."
      ],
      "text/plain": [
       "<IPython.core.display.Markdown object>"
      ]
     },
     "metadata": {},
     "output_type": "display_data"
    }
   ],
   "source": [
    "response = get_completion(prompt='Explain Generative AI in 2 bullet points')\n",
    "display(Markdown(response))"
   ]
  },
  {
   "cell_type": "code",
   "execution_count": 10,
   "metadata": {
    "colab": {
     "base_uri": "https://localhost:8080/",
     "height": 72
    },
    "id": "VmnwGrskn_oz",
    "outputId": "0d8f4c97-be9b-4665-dcf4-a57c54b5a0e8"
   },
   "outputs": [
    {
     "data": {
      "text/markdown": [
       "- Generative AI is a type of AI that can create new data or content from scratch, such as generating images, text, or music.\n",
       "- Generative AI uses machine learning algorithms to learn the patterns and structures of data, and then uses this knowledge to create new data that is similar to the original data."
      ],
      "text/plain": [
       "<IPython.core.display.Markdown object>"
      ]
     },
     "metadata": {},
     "output_type": "display_data"
    }
   ],
   "source": [
    "# with Gemini\n",
    "response = get_completion(prompt='Explain Generative AI in 2 bullet points',\n",
    "                          model='gemini-pro')\n",
    "display(Markdown(response))"
   ]
  },
  {
   "cell_type": "code",
   "execution_count": null,
   "metadata": {},
   "outputs": [],
   "source": []
  },
  {
   "cell_type": "code",
   "execution_count": null,
   "metadata": {},
   "outputs": [],
   "source": []
  },
  {
   "cell_type": "code",
   "execution_count": null,
   "metadata": {},
   "outputs": [],
   "source": []
  },
  {
   "cell_type": "code",
   "execution_count": null,
   "metadata": {
    "id": "8MD1AgaUDZ_c"
   },
   "outputs": [],
   "source": []
  }
 ],
 "metadata": {
  "colab": {
   "provenance": []
  },
  "kernelspec": {
   "display_name": "Python 3 (ipykernel)",
   "language": "python",
   "name": "python3"
  },
  "language_info": {
   "codemirror_mode": {
    "name": "ipython",
    "version": 3
   },
   "file_extension": ".py",
   "mimetype": "text/x-python",
   "name": "python",
   "nbconvert_exporter": "python",
   "pygments_lexer": "ipython3",
   "version": "3.10.12"
  }
 },
 "nbformat": 4,
 "nbformat_minor": 4
}
